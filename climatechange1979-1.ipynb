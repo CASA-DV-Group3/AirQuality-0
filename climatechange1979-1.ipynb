{
 "cells": [
  {
   "cell_type": "markdown",
   "metadata": {},
   "source": [
    "Version climatechange1979-0 imported the GRIB data using \n",
    "import cdsapi"
   ]
  },
  {
   "cell_type": "code",
   "execution_count": 32,
   "metadata": {},
   "outputs": [],
   "source": [
    "import pyproj\n",
    "import pygrib                              # import pygrib interface to grib_api\n",
    "from mpl_toolkits.basemap import Basemap   # import Basemap matplotlib toolkit\n",
    "import numpy as np\n",
    "import pandas as pd\n",
    "from datetime import datetime\n",
    "import matplotlib.pyplot as plt\n",
    "\n",
    "%matplotlib inline                         \n",
    "# print map within this notebook\n"
   ]
  },
  {
   "cell_type": "code",
   "execution_count": 34,
   "metadata": {},
   "outputs": [
    {
     "name": "stdout",
     "output_type": "stream",
     "text": [
      "GRIB for temperature at 2m height over ground- or sea-level.\n",
      "1:2 metre temperature:K (avgua):regular_ll:surface:level 0:fcst time 0 hrs (avgua):from 197909010000\n",
      "\n",
      "SKIP - complete list of keys in each GRIB reading.\n",
      "\n",
      "Number of readings in the GRIB: 180\n"
     ]
    }
   ],
   "source": [
    "fileZero = \"./climateChange1979/1month_anomaly_Global_ei_2T_197909_v01.grib\"\n",
    "loadedGrib = pygrib.open(fileZero)\n",
    "\n",
    "for eachLine in loadedGrib:\n",
    "    print(\"GRIB for temperature at 2m height over ground- or sea-level.\")\n",
    "    print(eachLine)\n",
    "    \n",
    "print()\n",
    "print(\"SKIP - complete list of keys in each GRIB reading.\")\n",
    "# print(eachLine.keys())\n",
    "print()\n",
    "displayColumnsGrib = eachLine.keys()\n",
    "print(\"Number of readings in the GRIB:\", len(displayColumnsGrib))"
   ]
  },
  {
   "cell_type": "code",
   "execution_count": 37,
   "metadata": {},
   "outputs": [
    {
     "name": "stdout",
     "output_type": "stream",
     "text": [
      "Index going through loadedGrib is 0\n",
      "GRIB description is 1:2 metre temperature:K (avgua):regular_ll:surface:level 0:fcst time 0 hrs (avgua):from 197909010000\n",
      "SKIP - display sample temperature values\n",
      "Shape of tempValues array is (721, 1440)\n",
      "Maximum and minimum temperatures are 6.587158203125 -7.8816986083984375\n",
      "Maximum and minumum for lat then lon 90.0 -90.0 then 359.75 0.0\n",
      "Shape of lats, lons arrays are (721, 1440) (721, 1440)\n"
     ]
    }
   ],
   "source": [
    "loadedGrib.rewind()       # necessary to get index back at start of GRIB data\n",
    "\n",
    "for i, eachLine in enumerate(loadedGrib):\n",
    "    print(\"Index going through loadedGrib is\", i)\n",
    "    print(\"GRIB description is\", eachLine)\n",
    "    \n",
    "#tempValues = eachLine.select(name='values')\n",
    "tempValues = eachLine.values\n",
    "print(\"SKIP - display sample temperature values\")\n",
    "#print(tempValues)\n",
    "print(\"Shape of tempValues array is\", tempValues.shape)\n",
    "print(\"Maximum and minimum temperatures are\", tempValues.max(), tempValues.min())\n",
    "lats, lons = eachLine.latlons()  # get the lats and lons for the grid.\n",
    "print (\"Maximum and minumum for lat then lon\", lats.max(), lats.min(), \"then\", lons.max(), lons.min())\n",
    "print(\"Shape of lats, lons arrays are\", lats.shape, lons.shape)"
   ]
  },
  {
   "cell_type": "code",
   "execution_count": 22,
   "metadata": {},
   "outputs": [
    {
     "ename": "AttributeError",
     "evalue": "'str' object has no attribute 'parameterName'",
     "output_type": "error",
     "traceback": [
      "\u001b[0;31m---------------------------------------------------------------------------\u001b[0m",
      "\u001b[0;31mAttributeError\u001b[0m                            Traceback (most recent call last)",
      "\u001b[0;32m<ipython-input-22-a4b3296f4a45>\u001b[0m in \u001b[0;36m<module>\u001b[0;34m\u001b[0m\n\u001b[1;32m      5\u001b[0m \u001b[0;32mfor\u001b[0m \u001b[0meachLine\u001b[0m \u001b[0;32min\u001b[0m \u001b[0mdisplayColumnsGrib\u001b[0m\u001b[0;34m:\u001b[0m\u001b[0;34m\u001b[0m\u001b[0m\n\u001b[1;32m      6\u001b[0m     \u001b[0;31m#if eachLine.validDate == date_valid and eachLine.parameterName == 'Temperature' and eachLine.level == 2:\u001b[0m\u001b[0;34m\u001b[0m\u001b[0;34m\u001b[0m\u001b[0m\n\u001b[0;32m----> 7\u001b[0;31m     \u001b[0mprint\u001b[0m\u001b[0;34m(\u001b[0m\u001b[0meachLine\u001b[0m\u001b[0;34m.\u001b[0m\u001b[0mparameterName\u001b[0m\u001b[0;34m)\u001b[0m\u001b[0;34m\u001b[0m\u001b[0m\n\u001b[0m\u001b[1;32m      8\u001b[0m     \u001b[0;32mif\u001b[0m \u001b[0meachLine\u001b[0m\u001b[0;34m.\u001b[0m\u001b[0mparameterName\u001b[0m \u001b[0;34m==\u001b[0m \u001b[0;34m'Temperature'\u001b[0m \u001b[0;32mand\u001b[0m \u001b[0meachLine\u001b[0m\u001b[0;34m.\u001b[0m\u001b[0mlevel\u001b[0m \u001b[0;34m==\u001b[0m \u001b[0;36m2\u001b[0m\u001b[0;34m:\u001b[0m\u001b[0;34m\u001b[0m\u001b[0m\n\u001b[1;32m      9\u001b[0m         \u001b[0mtempsForPlot\u001b[0m\u001b[0;34m.\u001b[0m\u001b[0mappend\u001b[0m\u001b[0;34m(\u001b[0m\u001b[0meachLine\u001b[0m\u001b[0;34m.\u001b[0m\u001b[0mvalues\u001b[0m\u001b[0;34m)\u001b[0m\u001b[0;34m\u001b[0m\u001b[0m\n",
      "\u001b[0;31mAttributeError\u001b[0m: 'str' object has no attribute 'parameterName'"
     ]
    }
   ],
   "source": [
    "loadedGrib.rewind()\n",
    "\n",
    "date_valid = datetime(1979, 9, 30,0)\n",
    "tempsForPlot = []\n",
    "for eachLine in loadedGrib:\n",
    "    #if eachLine.validDate == date_valid and eachLine.parameterName == 'Temperature' and eachLine.level == 2:\n",
    "    print(eachLine.parameterName)\n",
    "    if eachLine.parameterName == 'Temperature' and eachLine.level == 2:\n",
    "        tempsForPlot.append(eachLine.values)\n",
    "\n",
    "        \n",
    "tempsForPlot = np.array(tempsForPlot)\n",
    "print (t2mens.shape)\n",
    "lats, lons = eachLine.latlons()  # get the lats and lons for the grid.\n",
    "print ('min/max lat and lon',lats.min(), lats.max(), lons.min(), lons.max())\n"
   ]
  }
 ],
 "metadata": {
  "kernelspec": {
   "display_name": "Python 3",
   "language": "python",
   "name": "python3"
  },
  "language_info": {
   "codemirror_mode": {
    "name": "ipython",
    "version": 3
   },
   "file_extension": ".py",
   "mimetype": "text/x-python",
   "name": "python",
   "nbconvert_exporter": "python",
   "pygments_lexer": "ipython3",
   "version": "3.6.6"
  }
 },
 "nbformat": 4,
 "nbformat_minor": 2
}
