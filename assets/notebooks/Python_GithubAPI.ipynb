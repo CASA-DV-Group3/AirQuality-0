{
 "cells": [
  {
   "cell_type": "markdown",
   "metadata": {},
   "source": [
    "### Create / Upload files: .txt, .csv, .geojson, ..."
   ]
  },
  {
   "cell_type": "code",
   "execution_count": 1,
   "metadata": {},
   "outputs": [
    {
     "data": {
      "text/plain": [
       "{'content': ContentFile(path=\"assets/data/test.text\"),\n",
       " 'commit': Commit(sha=\"2802ae1404a678cf6e0fd4db102b8895c3354395\")}"
      ]
     },
     "execution_count": 1,
     "metadata": {},
     "output_type": "execute_result"
    }
   ],
   "source": [
    "# $ pip install PyGithub\n",
    "from github import Github\n",
    "\n",
    "# First create a Github instance:\n",
    "# using an access token\n",
    "g = Github(\"dde59fd520aa7102e518a9b0993e9bca2f8122a2\")\n",
    "# # Or, using username and password\n",
    "# g = Github(\"user\", \"password\")\n",
    "\n",
    "# Creat a repository object:\n",
    "# repo = g.get_repo(\"USER_NAME/REPO_NAME\")\n",
    "repo = g.get_repo(\"CASA-DV-Group3/AirQuality-0\")\n",
    "# Or,\n",
    "# repo = g.get_user().get_repo(\"REPO_NAME\")\n",
    "# repo = g.get_user().get_repo(\"test\")\n",
    "\n",
    "# Create file with string contents:\n",
    "# repo.create_file(\"FOLDER1/FOLDER2/.../FILE_NAME\", \"COMMIT MESSAGE\", \"FILE_CONTENT\", branch=\"BRANCH_NAME\")\n",
    "repo.create_file(\"assets/data/test.text\", \"test Github API\", \"FILE_CONTENT\", branch=\"lyu\")"
   ]
  },
  {
   "cell_type": "markdown",
   "metadata": {},
   "source": [
    "#### The content of file can only be str type - use json.dump() of json package to convert json / geojson type to str type:"
   ]
  },
  {
   "cell_type": "code",
   "execution_count": 2,
   "metadata": {},
   "outputs": [
    {
     "name": "stdout",
     "output_type": "stream",
     "text": [
      "<class 'geojson.feature.FeatureCollection'>\n"
     ]
    },
    {
     "data": {
      "text/plain": [
       "{\"features\": [{\"geometry\": {\"coordinates\": [1, 1], \"type\": \"Point\"}, \"properties\": {\"aqi\": \"aqi\", \"co\": \"co\", \"id\": \"id\", \"no2\": \"no2\", \"o3\": \"o3\", \"pm10\": \"pm10\", \"pm25\": \"pm25\", \"so2\": \"so2\", \"station\": \"station\", \"time\": \"time\"}, \"type\": \"Feature\"}], \"type\": \"FeatureCollection\"}"
      ]
     },
     "execution_count": 2,
     "metadata": {},
     "output_type": "execute_result"
    }
   ],
   "source": [
    "import json\n",
    "from geojson import Point, Feature, FeatureCollection\n",
    "features = [Feature(geometry=Point((1, 1)), \n",
    "                            properties={\"id\": \"id\",\n",
    "                                        \"station\": \"station\",\n",
    "                                        \"time\": \"time\",\n",
    "                                        \"aqi\": \"aqi\",\n",
    "                                        \"pm10\": \"pm10\",\n",
    "                                        \"pm25\": \"pm25\",\n",
    "                                        \"no2\": \"no2\",\n",
    "                                        \"o3\": \"o3\",\n",
    "                                        \"so2\": \"so2\",\n",
    "                                        \"co\": \"co\"})]\n",
    "geojson = FeatureCollection(features)\n",
    "print(type(geojson))\n",
    "geojson"
   ]
  },
  {
   "cell_type": "code",
   "execution_count": 3,
   "metadata": {},
   "outputs": [
    {
     "name": "stdout",
     "output_type": "stream",
     "text": [
      "<class 'str'>\n"
     ]
    },
    {
     "data": {
      "text/plain": [
       "'{\"type\": \"FeatureCollection\", \"features\": [{\"type\": \"Feature\", \"geometry\": {\"type\": \"Point\", \"coordinates\": [1, 1]}, \"properties\": {\"id\": \"id\", \"station\": \"station\", \"time\": \"time\", \"aqi\": \"aqi\", \"pm10\": \"pm10\", \"pm25\": \"pm25\", \"no2\": \"no2\", \"o3\": \"o3\", \"so2\": \"so2\", \"co\": \"co\"}}]}'"
      ]
     },
     "execution_count": 3,
     "metadata": {},
     "output_type": "execute_result"
    }
   ],
   "source": [
    "geojsonSTR = json.dumps(geojson)\n",
    "print(type(geojsonSTR))\n",
    "geojsonSTR"
   ]
  },
  {
   "cell_type": "code",
   "execution_count": 4,
   "metadata": {},
   "outputs": [
    {
     "data": {
      "text/plain": [
       "{'content': ContentFile(path=\"assets/data/test.geojson\"),\n",
       " 'commit': Commit(sha=\"1e2acb0c4d5b068d37e9446e6adddd3946a7c51a\")}"
      ]
     },
     "execution_count": 4,
     "metadata": {},
     "output_type": "execute_result"
    }
   ],
   "source": [
    "# $ pip install PyGithub\n",
    "from github import Github\n",
    "\n",
    "# First create a Github instance:\n",
    "# using an access token\n",
    "g = Github(\"dde59fd520aa7102e518a9b0993e9bca2f8122a2\")\n",
    "# # Or, using username and password\n",
    "# g = Github(\"user\", \"password\")\n",
    "\n",
    "# Creat a repository object:\n",
    "# repo = g.get_repo(\"USER_NAME/REPO_NAME\")\n",
    "repo = g.get_repo(\"CASA-DV-Group3/AirQuality-0\")\n",
    "# Or,\n",
    "# repo = g.get_user().get_repo(\"REPO_NAME\")\n",
    "# repo = g.get_user().get_repo(\"test\")\n",
    "\n",
    "# Create file with string contents:\n",
    "# repo.create_file(\"FOLDER1/FOLDER2/.../FILE_NAME\", \"COMMIT MESSAGE\", \"FILE_CONTENT\", branch=\"BRANCH_NAME\")\n",
    "repo.create_file(\"assets/data/test.geojson\", \"test Github API\", json.dumps(geojson), branch=\"lyu\")"
   ]
  },
  {
   "cell_type": "markdown",
   "metadata": {},
   "source": [
    "### Update existent files: .txt, .csv, .geojson, ..."
   ]
  },
  {
   "cell_type": "code",
   "execution_count": null,
   "metadata": {},
   "outputs": [],
   "source": [
    "# $ pip install PyGithub\n",
    "from github import Github\n",
    "\n",
    "# First create a Github instance:\n",
    "# using an access token\n",
    "g = Github(\"dde59fd520aa7102e518a9b0993e9bca2f8122a2\")\n",
    "# # Or, using username and password\n",
    "# g = Github(\"user\", \"password\")\n",
    "\n",
    "# Creat a repository object:\n",
    "# repo = g.get_repo(\"USER_NAME/REPO_NAME\")\n",
    "repo = g.get_repo(\"CASA-DV-Group3/AirQuality-0\")\n",
    "# Or,\n",
    "# # repo = g.get_user().get_repo(\"REPO_NAME\")\n",
    "# repo = g.get_user().get_repo(\"test\")\n",
    "\n",
    "# get the contents of the original file:\n",
    "# contents = repo.get_contents('FOLDER1/FOLDER2/.../FILE_NAME',ref='BRANCH_NAME')\n",
    "contents = repo.get_contents('assets/data/fileNAMEs.txt',ref='lyu')\n",
    "\n",
    "# update the file contents:\n",
    "# repo.update_file(contents.path, \"COMMIT MESSAGE\", \"FILE_CONTENT\", contents.sha, branch=\"BRANCH_NAME\")\n",
    "repo.update_file(contents.path,'update latest geojson filenames on '+str(datetime.now()),str(filenames),contents.sha,branch=\"lyu\")"
   ]
  }
 ],
 "metadata": {
  "kernelspec": {
   "display_name": "Python 3",
   "language": "python",
   "name": "python3"
  },
  "language_info": {
   "codemirror_mode": {
    "name": "ipython",
    "version": 3
   },
   "file_extension": ".py",
   "mimetype": "text/x-python",
   "name": "python",
   "nbconvert_exporter": "python",
   "pygments_lexer": "ipython3",
   "version": "3.7.3"
  }
 },
 "nbformat": 4,
 "nbformat_minor": 2
}
